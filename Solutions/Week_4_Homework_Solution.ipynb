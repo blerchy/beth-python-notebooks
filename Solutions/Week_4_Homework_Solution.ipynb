{
 "cells": [
  {
   "cell_type": "markdown",
   "id": "casual-electronics",
   "metadata": {},
   "source": [
    "# Week 4 Homework (my solution)\n",
    "\n",
    "### Assignment Specification:\n",
    "\n",
    "Write a Python Program to compute how to give change with fixed denominations. Maximize larger denominations, using smaller ones only as needed. Use the following denominations, in order.\n",
    "\n",
    "1. \\$20\n",
    "2. \\$10\n",
    "3. \\$5\n",
    "4. \\$2\n",
    "5. \\$1\n",
    "6. \\$0.25\n",
    "7. \\$0.10\n",
    "8. \\$0.05\n",
    "\n",
    "Pennies cannot be given as change (the requirements are unclear on this, so I'm assuming that we simply round down to the nearest $0.05 increment.\n",
    "\n",
    "### Requirements\n",
    "\n",
    "1. Instead of using floating point (decimal) numbers, multiply everything by 100 and use integers instead (i.e. 20 becomes 2000, 0.05 becomes 5, etc.)\n",
    "2. Use a dictionary to store the number of each denomination you'll return to the customer.\n",
    "3. You must use at least one *for* loop.\n",
    "4. Do not output denominations that you do not need to give back.\n",
    "5. You must use the *.format()* method to write your output.\n",
    "6. Output must match the example spec below"
   ]
  },
  {
   "cell_type": "raw",
   "id": "premier-thomson",
   "metadata": {},
   "source": [
    "Enter the amount of money to make change for: 47.25\n",
    "Amount of $20.00: 2\n",
    "Amount of $5.00: 1\n",
    "Amount of $2.00: 1\n",
    "Amount of $0.25: 1"
   ]
  },
  {
   "cell_type": "markdown",
   "id": "acceptable-springer",
   "metadata": {},
   "source": [
    "### Your Solution"
   ]
  },
  {
   "cell_type": "code",
   "execution_count": null,
   "id": "frequent-employment",
   "metadata": {},
   "outputs": [],
   "source": [
    "def compute_denominations(change_to_give):\n",
    "    # to satisfy requirement (1), convert change_to_give\n",
    "    # to an integer.\n",
    "    \n",
    "    change_to_give = int(change_to_give * 100)\n",
    "    \n",
    "    # Create a dictionary to store how many of each denomination\n",
    "    # you'll need. (2)\n",
    "    \n",
    "    denominations = {\n",
    "        2000 : 0,\n",
    "        1000 : 0,\n",
    "        500 : 0,\n",
    "        200 : 0,\n",
    "        100 : 0,\n",
    "        25 : 0,\n",
    "        10 : 0,\n",
    "        5 : 0\n",
    "    }\n",
    "    \n",
    "    # Iterate through the dictionary and store how many\n",
    "    # of each denomination you'll need, using a for loop (3)\n",
    "    \n",
    "    for key in denominations:\n",
    "        how_many = change_to_give // key\n",
    "        denominations[key] = how_many\n",
    "        change_to_give -= how_many * key\n",
    "    \n",
    "    # Remove any zero entries. (4)\n",
    "    \n",
    "    keys = list(denominations.keys())\n",
    "    \n",
    "    for key in keys:\n",
    "        if denominations[key] == 0:\n",
    "            del(denominations[key])\n",
    "    \n",
    "    # Write the denominations to output following the output spec (6)\n",
    "    \n",
    "    for key in denominations:\n",
    "        print(\"Amount of ${:.2f}: {}\".format(key/100, denominations[key]))\n",
    "    \n",
    "# --- test your solution ---\n",
    "text_input = input(\"Enter the amount of money to make change for: \")\n",
    "number_input = float(text_input)\n",
    "compute_denominations(number_input)"
   ]
  }
 ],
 "metadata": {
  "kernelspec": {
   "display_name": "Python 3",
   "language": "python",
   "name": "python3"
  },
  "language_info": {
   "codemirror_mode": {
    "name": "ipython",
    "version": 3
   },
   "file_extension": ".py",
   "mimetype": "text/x-python",
   "name": "python",
   "nbconvert_exporter": "python",
   "pygments_lexer": "ipython3",
   "version": "3.9.0"
  }
 },
 "nbformat": 4,
 "nbformat_minor": 5
}
